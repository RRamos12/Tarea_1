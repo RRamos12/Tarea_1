{
  "nbformat": 4,
  "nbformat_minor": 0,
  "metadata": {
    "colab": {
      "name": "Tarea 1 MN 2sv1 RRR",
      "provenance": [],
      "collapsed_sections": [],
      "authorship_tag": "ABX9TyPvUtDHuGw6MYIaGO/J8Z9k",
      "include_colab_link": true
    },
    "kernelspec": {
      "name": "python3",
      "display_name": "Python 3"
    }
  },
  "cells": [
    {
      "cell_type": "markdown",
      "metadata": {
        "id": "view-in-github",
        "colab_type": "text"
      },
      "source": [
        "<a href=\"https://colab.research.google.com/github/RRamos12/Tarea_1/blob/main/Tarea_1_MN_2sv1_RRR.ipynb\" target=\"_parent\"><img src=\"https://colab.research.google.com/assets/colab-badge.svg\" alt=\"Open In Colab\"/></a>"
      ]
    },
    {
      "cell_type": "markdown",
      "metadata": {
        "id": "1ZPxlSFRnkhS"
      },
      "source": [
        "**Programa #1**"
      ]
    },
    {
      "cell_type": "code",
      "metadata": {
        "id": "dS21Eg8e3yXv",
        "outputId": "4c94b672-c56e-4a02-e956-b99925669917",
        "colab": {
          "base_uri": "https://localhost:8080/"
        }
      },
      "source": [
        "# Desarrollar un programa que lea una variable entera y determine si es par o impar-\n",
        "\n",
        "num = int(input(\"Ingrese un numero: \"))\n",
        "print(\"El número a utilizar es:\", num)\n",
        "\n",
        "if num%2==0:\n",
        "  print(\"El número es par :D\")\n",
        "else:\n",
        "    print(\"El número es impar D:\") \n"
      ],
      "execution_count": null,
      "outputs": [
        {
          "output_type": "stream",
          "text": [
            "Ingrese un numero: 5\n",
            "El número a utilizar es: 5\n",
            "El número es impar D:\n"
          ],
          "name": "stdout"
        }
      ]
    },
    {
      "cell_type": "markdown",
      "metadata": {
        "id": "snBAJDMnnoek"
      },
      "source": [
        "**Programa #2**"
      ]
    },
    {
      "cell_type": "code",
      "metadata": {
        "id": "_Z9JdutP5pfu"
      },
      "source": [
        "#Desarrolle un programa donde el usuario introduzca una cadena de caracteres y un número entero, después el programa debe imprimir la cadena de caracteres tantas veces como el número entero.\n",
        "\n",
        "print(\"programa que repite n veces el texto dado xd\")\n",
        "print(\"Ingrese su frase\")\n",
        "Frase=input()\n",
        "print(\"¿Cuántas veces quieres que se repita el mensaje?\")\n",
        "Num=int(input())\n",
        "Cont=0\n",
        "while Cont<Num:\n",
        "  Cont+=1\n",
        "  print(Frase)\n"
      ],
      "execution_count": null,
      "outputs": []
    },
    {
      "cell_type": "markdown",
      "metadata": {
        "id": "7MyaLd_yqIGv"
      },
      "source": [
        "**Programa #3**"
      ]
    },
    {
      "cell_type": "code",
      "metadata": {
        "id": "5bgZEnfSqLfG",
        "outputId": "e90767d2-7b40-41cb-d11a-7fe64acd3f19",
        "colab": {
          "base_uri": "https://localhost:8080/"
        }
      },
      "source": [
        "#Esribir una funicón que reciba como argumento el número de horas y el costo por hora, dejarlo como argumento predefinido en 150 la función debe de regresar el pago del empleado eun día, semana laboral  y mes laboral.\n",
        "def pago(Hr,PPhr=150):\n",
        "    PPD=Hr*PPhr\n",
        "    PPsem=PPD*5\n",
        "    PPM=PPD*20\n",
        "    print(\"El pago por día es:\",PPD) \n",
        "    print(\"El pago por semana (5 días) es:\",PPsem) \n",
        "    print(\"El pago por mes (20 días) es:\",PPM) \n",
        "pago(10)"
      ],
      "execution_count": null,
      "outputs": [
        {
          "output_type": "stream",
          "text": [
            "El pago por día es: 1500\n",
            "El pago por semana (5 días) es: 7500\n",
            "El pago por mes (20 días) es: 30000\n"
          ],
          "name": "stdout"
        }
      ]
    },
    {
      "cell_type": "markdown",
      "metadata": {
        "id": "4dBzVTrJvUFn"
      },
      "source": [
        "**Programa 4**"
      ]
    },
    {
      "cell_type": "code",
      "metadata": {
        "id": "IpRblQ65s2cq",
        "outputId": "4384904b-2878-4400-ce08-f07f38024545",
        "colab": {
          "base_uri": "https://localhost:8080/",
          "height": 629
        }
      },
      "source": [
        "print(\"Este programa es una calculadora para -Suma,Resta,multiplicación y División-\")\n",
        "print(\"Elija una de las siguientes operaciones por favor:  \\na.Suma \\nb.Resta \\nc.Multiplicación \\nd.División\")\n",
        "Operacion=input()\n",
        "if Operacion==\"a\":\n",
        "   print(\"Ingrese los numero a sumar \\nIngrese el primer dígito \")\n",
        "   a=int(input()) \n",
        "   print(\"Ingrese el segundo dígito\") \n",
        "   b=int(input()) \n",
        "   print(\"El resultado es:\",a+b)\n",
        "elif Operacion==\"b\":\n",
        "   print(\"Digite los números a retar  \\nIngrese el primer dígito\") \n",
        "   a=int(input()) \n",
        "   print(\"Ingrese el segundo dígito\") \n",
        "   b=int(input()) \n",
        "   print(\"El resultado es:\",a-b)\n",
        "elif Operacion==\"c\":\n",
        "   print(\"Digite los números a multiplicar  \\nDigite el primer número\")\n",
        "   a=int(input())\n",
        "   print(\"Digite el segundo número\") \n",
        "   b=int(input()) \n",
        "   print(\"La multiplicación da: \",a*b)\n",
        "elif Operacion==\"d\":\n",
        "   print(\"Digite los números a dividir \\nDigite el dividendo\") \n",
        "   a=int(input()) \n",
        "   print(\"Digte el divisor\") \n",
        "   b=int(input())   \n",
        "   while b==0:\n",
        "         print(\"SYHTHAX ERROR xd, ingrese otro número\") \n",
        "         b=int(input())\n",
        "   print(\"El resultado es:\",a/b)"
      ],
      "execution_count": 7,
      "outputs": [
        {
          "output_type": "stream",
          "text": [
            "Este programa es una calculadora para -Suma,Resta,multiplicación y División-\n",
            "Elija una de las siguientes operaciones por favor:  \n",
            "a.Suma \n",
            "b.Resta \n",
            "c.Multiplicación \n",
            "d.División\n"
          ],
          "name": "stdout"
        },
        {
          "output_type": "error",
          "ename": "KeyboardInterrupt",
          "evalue": "ignored",
          "traceback": [
            "\u001b[0;31m---------------------------------------------------------------------------\u001b[0m",
            "\u001b[0;31mKeyboardInterrupt\u001b[0m                         Traceback (most recent call last)",
            "\u001b[0;32m/usr/local/lib/python3.6/dist-packages/ipykernel/kernelbase.py\u001b[0m in \u001b[0;36m_input_request\u001b[0;34m(self, prompt, ident, parent, password)\u001b[0m\n\u001b[1;32m    728\u001b[0m             \u001b[0;32mtry\u001b[0m\u001b[0;34m:\u001b[0m\u001b[0;34m\u001b[0m\u001b[0;34m\u001b[0m\u001b[0m\n\u001b[0;32m--> 729\u001b[0;31m                 \u001b[0mident\u001b[0m\u001b[0;34m,\u001b[0m \u001b[0mreply\u001b[0m \u001b[0;34m=\u001b[0m \u001b[0mself\u001b[0m\u001b[0;34m.\u001b[0m\u001b[0msession\u001b[0m\u001b[0;34m.\u001b[0m\u001b[0mrecv\u001b[0m\u001b[0;34m(\u001b[0m\u001b[0mself\u001b[0m\u001b[0;34m.\u001b[0m\u001b[0mstdin_socket\u001b[0m\u001b[0;34m,\u001b[0m \u001b[0;36m0\u001b[0m\u001b[0;34m)\u001b[0m\u001b[0;34m\u001b[0m\u001b[0;34m\u001b[0m\u001b[0m\n\u001b[0m\u001b[1;32m    730\u001b[0m             \u001b[0;32mexcept\u001b[0m \u001b[0mException\u001b[0m\u001b[0;34m:\u001b[0m\u001b[0;34m\u001b[0m\u001b[0;34m\u001b[0m\u001b[0m\n",
            "\u001b[0;32m/usr/local/lib/python3.6/dist-packages/jupyter_client/session.py\u001b[0m in \u001b[0;36mrecv\u001b[0;34m(self, socket, mode, content, copy)\u001b[0m\n\u001b[1;32m    802\u001b[0m         \u001b[0;32mtry\u001b[0m\u001b[0;34m:\u001b[0m\u001b[0;34m\u001b[0m\u001b[0;34m\u001b[0m\u001b[0m\n\u001b[0;32m--> 803\u001b[0;31m             \u001b[0mmsg_list\u001b[0m \u001b[0;34m=\u001b[0m \u001b[0msocket\u001b[0m\u001b[0;34m.\u001b[0m\u001b[0mrecv_multipart\u001b[0m\u001b[0;34m(\u001b[0m\u001b[0mmode\u001b[0m\u001b[0;34m,\u001b[0m \u001b[0mcopy\u001b[0m\u001b[0;34m=\u001b[0m\u001b[0mcopy\u001b[0m\u001b[0;34m)\u001b[0m\u001b[0;34m\u001b[0m\u001b[0;34m\u001b[0m\u001b[0m\n\u001b[0m\u001b[1;32m    804\u001b[0m         \u001b[0;32mexcept\u001b[0m \u001b[0mzmq\u001b[0m\u001b[0;34m.\u001b[0m\u001b[0mZMQError\u001b[0m \u001b[0;32mas\u001b[0m \u001b[0me\u001b[0m\u001b[0;34m:\u001b[0m\u001b[0;34m\u001b[0m\u001b[0;34m\u001b[0m\u001b[0m\n",
            "\u001b[0;32m/usr/local/lib/python3.6/dist-packages/zmq/sugar/socket.py\u001b[0m in \u001b[0;36mrecv_multipart\u001b[0;34m(self, flags, copy, track)\u001b[0m\n\u001b[1;32m    490\u001b[0m         \"\"\"\n\u001b[0;32m--> 491\u001b[0;31m         \u001b[0mparts\u001b[0m \u001b[0;34m=\u001b[0m \u001b[0;34m[\u001b[0m\u001b[0mself\u001b[0m\u001b[0;34m.\u001b[0m\u001b[0mrecv\u001b[0m\u001b[0;34m(\u001b[0m\u001b[0mflags\u001b[0m\u001b[0;34m,\u001b[0m \u001b[0mcopy\u001b[0m\u001b[0;34m=\u001b[0m\u001b[0mcopy\u001b[0m\u001b[0;34m,\u001b[0m \u001b[0mtrack\u001b[0m\u001b[0;34m=\u001b[0m\u001b[0mtrack\u001b[0m\u001b[0;34m)\u001b[0m\u001b[0;34m]\u001b[0m\u001b[0;34m\u001b[0m\u001b[0;34m\u001b[0m\u001b[0m\n\u001b[0m\u001b[1;32m    492\u001b[0m         \u001b[0;31m# have first part already, only loop while more to receive\u001b[0m\u001b[0;34m\u001b[0m\u001b[0;34m\u001b[0m\u001b[0;34m\u001b[0m\u001b[0m\n",
            "\u001b[0;32mzmq/backend/cython/socket.pyx\u001b[0m in \u001b[0;36mzmq.backend.cython.socket.Socket.recv\u001b[0;34m()\u001b[0m\n",
            "\u001b[0;32mzmq/backend/cython/socket.pyx\u001b[0m in \u001b[0;36mzmq.backend.cython.socket.Socket.recv\u001b[0;34m()\u001b[0m\n",
            "\u001b[0;32mzmq/backend/cython/socket.pyx\u001b[0m in \u001b[0;36mzmq.backend.cython.socket._recv_copy\u001b[0;34m()\u001b[0m\n",
            "\u001b[0;32m/usr/local/lib/python3.6/dist-packages/zmq/backend/cython/checkrc.pxd\u001b[0m in \u001b[0;36mzmq.backend.cython.checkrc._check_rc\u001b[0;34m()\u001b[0m\n",
            "\u001b[0;31mKeyboardInterrupt\u001b[0m: ",
            "\nDuring handling of the above exception, another exception occurred:\n",
            "\u001b[0;31mKeyboardInterrupt\u001b[0m                         Traceback (most recent call last)",
            "\u001b[0;32m<ipython-input-7-d03521f37625>\u001b[0m in \u001b[0;36m<module>\u001b[0;34m()\u001b[0m\n\u001b[1;32m      1\u001b[0m \u001b[0mprint\u001b[0m\u001b[0;34m(\u001b[0m\u001b[0;34m\"Este programa es una calculadora para -Suma,Resta,multiplicación y División-\"\u001b[0m\u001b[0;34m)\u001b[0m\u001b[0;34m\u001b[0m\u001b[0;34m\u001b[0m\u001b[0m\n\u001b[1;32m      2\u001b[0m \u001b[0mprint\u001b[0m\u001b[0;34m(\u001b[0m\u001b[0;34m\"Elija una de las siguientes operaciones por favor:  \\na.Suma \\nb.Resta \\nc.Multiplicación \\nd.División\"\u001b[0m\u001b[0;34m)\u001b[0m\u001b[0;34m\u001b[0m\u001b[0;34m\u001b[0m\u001b[0m\n\u001b[0;32m----> 3\u001b[0;31m \u001b[0mOperacion\u001b[0m\u001b[0;34m=\u001b[0m\u001b[0minput\u001b[0m\u001b[0;34m(\u001b[0m\u001b[0;34m)\u001b[0m\u001b[0;34m\u001b[0m\u001b[0;34m\u001b[0m\u001b[0m\n\u001b[0m\u001b[1;32m      4\u001b[0m \u001b[0;32mif\u001b[0m \u001b[0mOperacion\u001b[0m\u001b[0;34m==\u001b[0m\u001b[0;34m\"a\"\u001b[0m\u001b[0;34m:\u001b[0m\u001b[0;34m\u001b[0m\u001b[0;34m\u001b[0m\u001b[0m\n\u001b[1;32m      5\u001b[0m    \u001b[0mprint\u001b[0m\u001b[0;34m(\u001b[0m\u001b[0;34m\"Ingrese los numero a sumar \\nIngrese el primer dígito \"\u001b[0m\u001b[0;34m)\u001b[0m\u001b[0;34m\u001b[0m\u001b[0;34m\u001b[0m\u001b[0m\n",
            "\u001b[0;32m/usr/local/lib/python3.6/dist-packages/ipykernel/kernelbase.py\u001b[0m in \u001b[0;36mraw_input\u001b[0;34m(self, prompt)\u001b[0m\n\u001b[1;32m    702\u001b[0m             \u001b[0mself\u001b[0m\u001b[0;34m.\u001b[0m\u001b[0m_parent_ident\u001b[0m\u001b[0;34m,\u001b[0m\u001b[0;34m\u001b[0m\u001b[0;34m\u001b[0m\u001b[0m\n\u001b[1;32m    703\u001b[0m             \u001b[0mself\u001b[0m\u001b[0;34m.\u001b[0m\u001b[0m_parent_header\u001b[0m\u001b[0;34m,\u001b[0m\u001b[0;34m\u001b[0m\u001b[0;34m\u001b[0m\u001b[0m\n\u001b[0;32m--> 704\u001b[0;31m             \u001b[0mpassword\u001b[0m\u001b[0;34m=\u001b[0m\u001b[0;32mFalse\u001b[0m\u001b[0;34m,\u001b[0m\u001b[0;34m\u001b[0m\u001b[0;34m\u001b[0m\u001b[0m\n\u001b[0m\u001b[1;32m    705\u001b[0m         )\n\u001b[1;32m    706\u001b[0m \u001b[0;34m\u001b[0m\u001b[0m\n",
            "\u001b[0;32m/usr/local/lib/python3.6/dist-packages/ipykernel/kernelbase.py\u001b[0m in \u001b[0;36m_input_request\u001b[0;34m(self, prompt, ident, parent, password)\u001b[0m\n\u001b[1;32m    732\u001b[0m             \u001b[0;32mexcept\u001b[0m \u001b[0mKeyboardInterrupt\u001b[0m\u001b[0;34m:\u001b[0m\u001b[0;34m\u001b[0m\u001b[0;34m\u001b[0m\u001b[0m\n\u001b[1;32m    733\u001b[0m                 \u001b[0;31m# re-raise KeyboardInterrupt, to truncate traceback\u001b[0m\u001b[0;34m\u001b[0m\u001b[0;34m\u001b[0m\u001b[0;34m\u001b[0m\u001b[0m\n\u001b[0;32m--> 734\u001b[0;31m                 \u001b[0;32mraise\u001b[0m \u001b[0mKeyboardInterrupt\u001b[0m\u001b[0;34m\u001b[0m\u001b[0;34m\u001b[0m\u001b[0m\n\u001b[0m\u001b[1;32m    735\u001b[0m             \u001b[0;32melse\u001b[0m\u001b[0;34m:\u001b[0m\u001b[0;34m\u001b[0m\u001b[0;34m\u001b[0m\u001b[0m\n\u001b[1;32m    736\u001b[0m                 \u001b[0;32mbreak\u001b[0m\u001b[0;34m\u001b[0m\u001b[0;34m\u001b[0m\u001b[0m\n",
            "\u001b[0;31mKeyboardInterrupt\u001b[0m: "
          ]
        }
      ]
    },
    {
      "cell_type": "markdown",
      "metadata": {
        "id": "CMBKiu-YyK40"
      },
      "source": [
        "**Programa 5**"
      ]
    },
    {
      "cell_type": "code",
      "metadata": {
        "id": "XONMyvhpyM6_"
      },
      "source": [
        "#Una tienda de juguetes tiene dos productos estrella, el pennywise y la ouija, los payasos pesan 150gr y los juegos de mesa 170gr. Hacer una función que reciba el número de payasos y el número de juegos de mesa, si pesan más de 10 kg debe mandar error indicando por cuanto se pasó el pedido y con un \"false\" debe regresar al programa inicial.\n",
        "Ps=150\n",
        "JMesa=170\n",
        "print(\"Digite el número de payasos\")\n",
        "NP=int(input()) \n",
        "print(\"Digite el número de juegos de mesa\") \n",
        "NJM=int(input())  \n",
        "if (NP*Ps+NJM*JMesa)>=10000:\n",
        "   print(\"Error, exceso de peso\") \n",
        "   print(\"El peso excedente es:\\n\",(NP*Ps+NJM*JMesa)-10000,\"gramos.\")\n",
        "(NP*Ps+NJM*JMesa)<10000\n",
        "\n",
        "\n"
      ],
      "execution_count": null,
      "outputs": []
    },
    {
      "cell_type": "markdown",
      "metadata": {
        "id": "HVsc0UXj2kBN"
      },
      "source": [
        "**Programa 6**"
      ]
    },
    {
      "cell_type": "code",
      "metadata": {
        "id": "G5_QXLgR2mqV"
      },
      "source": [
        "#Suponga el impuesto que deben pagar por salario regido por la tabla de la tarea xd,desarrollar una función que acepte como argumento el salario y la función debe mostrar el rango en que se encuentra y debe regresar el salario con el descuento , si se pudo realizar debe regresar con un \"true\" (mucho texto)"
      ],
      "execution_count": null,
      "outputs": []
    },
    {
      "cell_type": "code",
      "metadata": {
        "id": "qpECh6Fi6g17"
      },
      "source": [
        "print(\"Ingrese cual es su salario\")\n",
        "Salario=int(input()) \n",
        "if Salario<10000:\n",
        "   print(\"Salario menor a 10mil\")\n",
        "   Desc=Salario*0.05\n",
        "   print(\"Su salario con el 5% de impuestos es:\",Salario-Desc)\n",
        "   print(Salario<10000) \n",
        "else:\n",
        "   if 10000<=Salario<=15000:\n",
        "      print(\"mayor a 10mil menor a 15mil \")\n",
        "      Desc=Salario*0.1\n",
        "      print(\"Su salario con 10% de impuestos es:\",Salario-Disc)\n",
        "      print(10000<=Salario<=15000) \n",
        "   else:\n",
        "      if 15000<Salario<=20000:\n",
        "         print(\"Mayor que 15mil menor a 20mil\")\n",
        "         Disc=Salario*0.15\n",
        "         print(\"Su salario con el 15% de impuestos es:\",Salario-Disc)\n",
        "         print(15000<Salario<=20000)\n",
        "      else:\n",
        "         print(\"Salario mayor a 20mil\")\n",
        "         Disc=Salario*0.18\n",
        "         print(\"Su salario con 18% de impuestos es:\",Salario-Disc)\n",
        "         print(Salario>10000)"
      ],
      "execution_count": null,
      "outputs": []
    },
    {
      "cell_type": "markdown",
      "metadata": {
        "id": "c8s_wtB181n8"
      },
      "source": [
        "**Programa 7**"
      ]
    },
    {
      "cell_type": "code",
      "metadata": {
        "id": "JWYnxf2J83zC"
      },
      "source": [
        "#Escribir un programa para un museo, donde se mande la función en orden de los parámetros de edad y ocupación, aplicando los descuentos dados-\n",
        "print(\"Este programa calcula el descuento para su boleto :D \") \n",
        "print(\"\\n El costo neto del boleto es de 100$ pero si pertenece a una de las listas mencionadas se le proporcionará un descuento\")\n",
        "Costos=[0,50,100] \n",
        "descuentos=[10,30,50] \n",
        "print(\"Digite la letra correspondiente a su rango de edad .  \\n a)Menos de 4 años b)Entre 4 y 16 años c)Mayor de 16 años\")\n",
        "R=input() \n",
        "if R==\"a\":\n",
        "   print(\"El boleto es gratis\") \n",
        "elif R==\"b\":\n",
        "   print(\"Ocupación \\n1) Estudiante\") \n",
        "   Ocupación=input()\n",
        "   if Ocupación==\"1\":\n",
        "      print(\"El costo es de $\",50-(50*0.1))  \n",
        "elif R==\"c\":\n",
        "   print(\"SOY: \\n1) Estudiante \\n2) Profesor \\n3) INAPAM \\n4) Ninguna de las anteriores\") \n",
        "   Ocupación=input()\n",
        "   if Ocupación==\"1\":\n",
        "      print(\"10 % de descuento por ser estudiante \\nEl costo es de $\",100-(100*0.1)) \n",
        "   elif Ocupación==\"2\":\n",
        "      print(\"10 % de descuento por ser Profesor \\nEl costo es de $\",100-(100*0.3))\n",
        "   elif Ocupación==\"3\":\n",
        "      print(\"10 % de descuento por ser adulto mayor  \\nEl costo es de $\",100-(100*0.5))\n",
        "   elif Ocupación==\"4\":\n",
        "      print(\"El costo es de $\",100)"
      ],
      "execution_count": null,
      "outputs": []
    },
    {
      "cell_type": "markdown",
      "metadata": {
        "id": "iOmMBmq3Bkr0"
      },
      "source": [
        "**Programa 8**"
      ]
    },
    {
      "cell_type": "code",
      "metadata": {
        "id": "tScKNQYpBnr2"
      },
      "source": [
        "#Escribir un programa que pida al usuario un número entero y muestre en pantalla un tríangulo con el numero correspondiente de caracteres respecto al numero dado.\n",
        "a=\"²\"\n",
        "print(\"Ingrese el número de caracteres que quiere ver en pantalla\")\n",
        "C=int(input()) \n",
        "Cont=0\n",
        "while Cont<C:\n",
        "   Cont+=1\n",
        "   print(Cont*a)\n"
      ],
      "execution_count": null,
      "outputs": []
    },
    {
      "cell_type": "markdown",
      "metadata": {
        "id": "8EuyrioJCxym"
      },
      "source": [
        "**Programa 9**"
      ]
    },
    {
      "cell_type": "code",
      "metadata": {
        "id": "IJwGkG9aCzfb"
      },
      "source": [
        "#Escribir una función que pida al usuario un número entero positivo y devuelva su factorial.\n",
        "print(\"Digite el número\")\n",
        "N=int(input())\n",
        "C=N-1\n",
        "P=N*C\n",
        "while C!=1:\n",
        "  C-=1\n",
        "  P=P*C\n",
        "print(P)  \n",
        "\n"
      ],
      "execution_count": null,
      "outputs": []
    },
    {
      "cell_type": "markdown",
      "metadata": {
        "id": "CVF7FCa1D4SY"
      },
      "source": [
        "**Programa 10**"
      ]
    },
    {
      "cell_type": "code",
      "metadata": {
        "id": "3NUj3XF7D64F",
        "outputId": "3626cd61-3705-4f9f-db98-efa6f5b9ae16",
        "colab": {
          "base_uri": "https://localhost:8080/"
        }
      },
      "source": [
        "#Escribir una función que calcule el área deun círculo y otra que calcule el volumen de un cilíndro utilizando la primera función.\n",
        "pi=3.141516\n",
        "print(\"El progama calcula el volumen a partir de la circunferencia dada xd\")\n",
        "\n",
        "print(\"\\n Digite el radio del círculo\")\n",
        "radio=int(input())\n",
        "A=pi*(radio*radio)\n",
        "print(\"El área del círculo es:\", A)\n",
        "\n",
        " \n",
        "print(\"Ingrese la altura del cilindro\")\n",
        "h=int(input()) \n",
        "print(\"El volumen del cilindro es:\",A*h)\n",
        "\n",
        "\n",
        "\n",
        "\n",
        "\n",
        "\n",
        "\n"
      ],
      "execution_count": null,
      "outputs": [
        {
          "output_type": "stream",
          "text": [
            "El progama calcula el volumen a partir de la circunferencia dada xd\n",
            "\n",
            " Digite el radio del círculo\n",
            "40\n",
            "El área del círculo es: 5026.4256000000005\n",
            "Ingrese la altura del cilindro\n",
            "5\n",
            "El volumen del cilindro es: 25132.128000000004\n"
          ],
          "name": "stdout"
        }
      ]
    }
  ]
}